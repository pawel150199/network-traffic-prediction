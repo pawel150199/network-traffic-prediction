{
 "cells": [
  {
   "cell_type": "code",
   "execution_count": 1,
   "source": [
    "import numpy as np\n",
    "from sklearn.tree import DecisionTreeRegressor\n",
    "from import_data import import_data\n",
    "from feature_selection import feature_selection\n",
    "\n",
    "RANDOM_STATE = 1410\n",
    "\n",
    "dataset = \"Euro28\"\n",
    "data, results = import_data(dataset)\n",
    "X = data.reshape(100,300)\n",
    "y = results\n",
    "\n",
    "X_t = feature_selection(X=X, y=y, random_state=RANDOM_STATE)"
   ],
   "outputs": [],
   "metadata": {}
  }
 ],
 "metadata": {
  "orig_nbformat": 4,
  "language_info": {
   "name": "python",
   "version": "3.9.9",
   "mimetype": "text/x-python",
   "codemirror_mode": {
    "name": "ipython",
    "version": 3
   },
   "pygments_lexer": "ipython3",
   "nbconvert_exporter": "python",
   "file_extension": ".py"
  },
  "kernelspec": {
   "name": "python3",
   "display_name": "Python 3.9.9 64-bit"
  },
  "interpreter": {
   "hash": "aee8b7b246df8f9039afb4144a1f6fd8d2ca17a180786b69acc140d282b71a49"
  }
 },
 "nbformat": 4,
 "nbformat_minor": 2
}