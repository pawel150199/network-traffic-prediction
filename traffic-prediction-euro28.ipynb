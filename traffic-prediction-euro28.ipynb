{
 "cells": [
  {
   "cell_type": "markdown",
   "source": [
    "## How look bitrate in one requests set?"
   ],
   "metadata": {}
  },
  {
   "cell_type": "code",
   "execution_count": null,
   "source": [
    "import pandas as pd\n",
    "import numpy as np\n",
    "import matplotlib.pyplot as plt\n",
    "import os\n",
    "\n",
    "data = pd.read_csv(\"Euro28/request-set_1/requests.csv\")\n",
    "\n",
    "plt.figure(figsize=(14,9))\n",
    "plt.plot(data[\"bitrate\"], color=\"blue\", linewidth=0.6)\n",
    "plt.xlabel(\"Request Sequence\")\n",
    "plt.ylabel(\"Bitrate\")\n",
    "plt.title(\"Bitrate\")\n",
    "plt.tight_layout()\n",
    "plt.show()"
   ],
   "outputs": [],
   "metadata": {}
  },
  {
   "cell_type": "markdown",
   "source": [
    "## All bitrates on one plot"
   ],
   "metadata": {}
  },
  {
   "cell_type": "code",
   "execution_count": null,
   "source": [
    "plt.figure(figsize=(14,9))\n",
    "\n",
    "for i in os.listdir(\"Euro28\"):\n",
    "    data = pd.read_csv(f\"Euro28/{i}/requests.csv\")\n",
    "    plt.plot(data[\"bitrate\"], linewidth=0.6, label=i)\n",
    "    plt.xlabel(\"Request Sequence\")\n",
    "    plt.ylabel(\"Bitrate\")\n",
    "    plt.title(\"Bitrate\")\n",
    "plt.legend(loc='upper center', bbox_to_anchor=(0.5, -0.5), ncol=2)\n",
    "plt.tight_layout()\n",
    "plt.show()"
   ],
   "outputs": [],
   "metadata": {}
  },
  {
   "cell_type": "markdown",
   "source": [
    "## Generate graph with bitrate as edge"
   ],
   "metadata": {}
  },
  {
   "cell_type": "code",
   "execution_count": null,
   "source": [
    "import networkx as nx\n",
    "import matplotlib.pyplot as plt\n",
    "import pandas as pd\n",
    "import numpy as np\n",
    "\n",
    "# Load your data\n",
    "data = pd.read_csv(\"Euro28/request-set_1/requests.csv\")\n",
    "\n",
    "# Create a weighted graph\n",
    "G = nx.Graph()\n",
    "\n",
    "source = np.array(data[\"source\"])\n",
    "destination = np.array(data[\"destination\"])\n",
    "weight = np.array(data[\"bitrate\"])\n",
    "\n",
    "# Normalize the weight values\n",
    "normalized_weights = (weight - np.min(weight)) / (np.max(weight) - np.min(weight))\n",
    "\n",
    "for i in range(len(data)):\n",
    "    # Add weighted edges\n",
    "    G.add_edge(source[i], destination[i], weight=normalized_weights[i])\n",
    "\n",
    "# Set node attributes for visualization\n",
    "node_size = 200  # Adjust the size of the nodes\n",
    "node_color = 'lightblue'\n",
    "\n",
    "# Create a colormap to represent edge weights\n",
    "cmap = plt.get_cmap('viridis')\n",
    "\n",
    "# Customize the layout\n",
    "pos = nx.spring_layout(G, seed=42)  # Seed for reproducibility\n",
    "\n",
    "# Draw the graph with edge colors\n",
    "edge_colors = [cmap(w) for w in normalized_weights]\n",
    "nx.draw(G, pos, with_labels=True, node_size=node_size, node_color=node_color, font_size=8, font_color='black',\n",
    "        width=2, edge_color=edge_colors)\n",
    "\n",
    "# Add labels to the nodes\n",
    "node_labels = {node: node for node in G.nodes()}\n",
    "nx.draw_networkx_labels(G, pos, labels=node_labels, font_size=8)\n",
    "\n",
    "# Create a color bar for edge colors\n",
    "sm = plt.cm.ScalarMappable(cmap=cmap, norm=plt.Normalize(vmin=weight.min(), vmax=weight.max()))\n",
    "sm.set_array([])\n",
    "plt.colorbar(sm, label=\"Edge Weights (Bitrate in Mbps)\")\n",
    "\n",
    "plt.tight_layout()\n",
    "plt.axis('off')\n",
    "plt.show()\n"
   ],
   "outputs": [],
   "metadata": {}
  },
  {
   "cell_type": "markdown",
   "source": [
    "## Load data"
   ],
   "metadata": {}
  },
  {
   "cell_type": "code",
   "execution_count": null,
   "source": [
    "def import_data(directory: str) -> None:\n",
    "    \"\"\"Load all data to learning from specific directory\n",
    "\n",
    "    Args:\n",
    "        directory (str): directory where all data are stored\n",
    "\n",
    "    Returns:\n",
    "        np.array: data from simulations in readable form shape (100,100,3) where we have 100 simulations, 100 requests and 3 features (input node, output node, bitrate\n",
    "        np.array: labels to predictions from simulation in readable form with shape (100,4) where we have 100 simulations and 4 data to predictions (highestSlot, avgHighestSlot, sumOfSlots, avgActiveTransceivers)\n",
    "    \"\"\" \n",
    "    data = []\n",
    "    results = []\n",
    "\n",
    "    for i in os.listdir(directory):\n",
    "        d = np.genfromtxt(f\"{directory}/{i}/requests.csv\", delimiter=',', skip_header=1, dtype=float)\n",
    "        data.append(d[:, 1:])\n",
    "        results.append(np.genfromtxt(f\"{directory}/{i}/results.txt\", dtype=float, usecols=(1,)))\n",
    "\n",
    "    return np.array(data), np.array(results)\n",
    "\n",
    "data, results = import_data(\"Euro28\")\n",
    "data = data.reshape(100,300)\n",
    "#results = results[:, 3]\n",
    "\n",
    "#print(data)\n",
    "#print(data.shape)\n",
    "#print(results.shape)\n"
   ],
   "outputs": [],
   "metadata": {}
  },
  {
   "cell_type": "markdown",
   "source": [
    "## Learning "
   ],
   "metadata": {}
  },
  {
   "cell_type": "code",
   "execution_count": null,
   "source": [
    "from sklearn.neural_network import MLPRegressor\n",
    "from sklearn.multioutput import MultiOutputRegressor\n",
    "from sklearn.model_selection import train_test_split\n",
    "import warnings\n",
    "\n",
    "warnings.filterwarnings(\"ignore\")\n",
    "\n",
    "X_train, X_test, y_train, y_test = train_test_split(data, results, test_size=0.2, random_state=1410)\n",
    "\n",
    "mlp = MultiOutputRegressor(MLPRegressor(hidden_layer_sizes=10, batch_size=20, max_iter=1000, random_state=1410))\n",
    "\n",
    "model = mlp.fit(X_train, y_train)\n",
    "\n",
    "y_pred = model.predict(X_test)\n",
    "\n",
    "#print(f\"Real data: {y_test}\")\n",
    "#print(f\"Predicted data: {y_pred}\")\n"
   ],
   "outputs": [],
   "metadata": {}
  },
  {
   "cell_type": "code",
   "execution_count": null,
   "source": [
    "from sklearn.metrics import mean_squared_error\n",
    "fig, ax = plt.subplots(2,2, figsize=(14,9))\n",
    "\n",
    "# Highest Slot\n",
    "ax[0,0].plot(y_test[:,0], color=\"red\", linewidth=0.6, label=\"Real data\")\n",
    "ax[0,0].plot(y_pred[:,0], color=\"blue\", linewidth=0.8, linestyle=\"dotted\", label=\"Predicted data - highestSlot\")\n",
    "ax[0,0].set_ylabel(\"highestSlot\")\n",
    "ax[0,0].set_title(f\"Highest Slot Prediction (MAE: {round(mean_squared_error(y_test[:,0], y_pred[:,0]), 2)})\")\n",
    "ax[0,0].grid()\n",
    "ax[0,0].legend()\n",
    "\n",
    "# Average Highest Slot\n",
    "ax[0,1].plot(y_test[:,1], color=\"red\", linewidth=0.6, label=\"Real data\")\n",
    "ax[0,1].plot(y_pred[:,1], color=\"blue\", linewidth=0.8, linestyle=\"dotted\", label=\"Predicted data - avgHighestSlot\")\n",
    "ax[0,1].set_ylabel(\"avgHighestSlot\")\n",
    "ax[0,1].set_title(f\"Average Highest Slot Prediction (MAE: {round(mean_squared_error(y_test[:,1], y_pred[:,1]), 2)})\")\n",
    "ax[0,1].grid()\n",
    "ax[0,1].legend()\n",
    "\n",
    "# Sum of Slots\n",
    "ax[1,0].plot(y_test[:,2], color=\"red\", linewidth=0.6, label=\"Real data\")\n",
    "ax[1,0].plot(y_pred[:,2], color=\"blue\", linewidth=0.8, linestyle=\"dotted\", label=\"Predicted data - sumOfSlots\")\n",
    "ax[1,0].set_ylabel(\"sumOfSlots\")\n",
    "ax[1,0].set_title(f\"Sum of Slots Predictions (MAE: {round(mean_squared_error(y_test[:,2], y_pred[:,2]), 2)})\")\n",
    "ax[1,0].grid()\n",
    "ax[1,0].legend()\n",
    "\n",
    "# Average Active Transceivers\n",
    "ax[1,1].plot(y_test[:,0], color=\"red\", linewidth=0.6, label=\"Real data\")\n",
    "ax[1,1].plot(y_pred[:,0], color=\"blue\", linewidth=0.8, linestyle=\"dotted\", label=\"Predicted data - avgActiveTransceivers\")\n",
    "ax[1,1].set_ylabel(\"avgActiveTransceivers\")\n",
    "ax[1,1].set_title(f\"Average Active Transceivers Prediction (MAE: {round(mean_squared_error(y_test[:,3], y_pred[:,3]), 2)})\")\n",
    "ax[1,1].grid()\n",
    "ax[1,1].legend()\n",
    "\n",
    "plt.tight_layout()\n",
    "plt.show()"
   ],
   "outputs": [],
   "metadata": {}
  },
  {
   "cell_type": "markdown",
   "source": [
    "## Many models comparision between each of them"
   ],
   "metadata": {}
  },
  {
   "cell_type": "code",
   "execution_count": null,
   "source": [
    "data, results = import_data(\"Euro28\")\n",
    "\n",
    "data = data.reshape(100,300)\n",
    "results = results[:, 3]\n",
    "\n",
    "#print(data.shape)"
   ],
   "outputs": [],
   "metadata": {}
  },
  {
   "cell_type": "code",
   "execution_count": null,
   "source": [
    "from sklearn.metrics import mean_absolute_error\n",
    "from sklearn.neural_network import MLPRegressor\n",
    "from sklearn.neighbors import KNeighborsRegressor\n",
    "from sklearn.svm import SVR\n",
    "from sklearn.ensemble import RandomForestRegressor\n",
    "from sklearn.metrics import accuracy_score\n",
    "from sklearn.model_selection import train_test_split\n",
    "import warnings\n",
    "\n",
    "warnings.filterwarnings(\"ignore\")\n",
    "\n",
    "X_train, X_test, y_train, y_test = train_test_split(data, results, test_size=0.2, random_state=1410)\n",
    "\n",
    "# MLP\n",
    "mlp = MLPRegressor(hidden_layer_sizes=5, batch_size=10, random_state=1410, warm_start=True)\n",
    "mlp.fit(X_train, y_train)\n",
    "y_pred_mlp = mlp.predict(X_test)\n",
    "mae_mlp = mean_absolute_error(y_test, y_pred_mlp)\n",
    "\n",
    "# KNN\n",
    "knn = KNeighborsRegressor()\n",
    "knn.fit(X_train, y_train)\n",
    "y_pred_knn = knn.predict(X_test)\n",
    "mae_knn = mean_absolute_error(y_test, y_pred_knn)\n",
    "\n",
    "# SVR\n",
    "svr = SVR(kernel=\"poly\")\n",
    "svr.fit(X_train, y_train)\n",
    "y_pred_svr = svr.predict(X_test)\n",
    "mae_svr = mean_absolute_error(y_test, y_pred_svr)\n",
    "\n",
    "# RFR\n",
    "rfr = RandomForestRegressor(random_state=1410)\n",
    "rfr.fit(X_train, y_train)\n",
    "y_pred_rfr = rfr.predict(X_test)\n",
    "mae_rfr = mean_absolute_error(y_test, y_pred_rfr)\n"
   ],
   "outputs": [],
   "metadata": {}
  },
  {
   "cell_type": "code",
   "execution_count": null,
   "source": [
    "import matplotlib.pyplot as plt\n",
    "\n",
    "fig, ax = plt.subplots(2, 2, figsize=(14,9))\n",
    "\n",
    "# MLP\n",
    "ax[0,0].plot(y_pred_mlp, color=\"blue\", linewidth=0.8, linestyle=\"dotted\", label=\"Predicted data\")\n",
    "ax[0,0].plot(y_test, color=\"red\", linewidth=0.6, label=\"Real data\")\n",
    "ax[0,0].set_ylabel(\"avgHighestSlot\")\n",
    "ax[0,0].set_title(f\"MLP Regressor (MAE: {round(mae_mlp, 2)})\")\n",
    "ax[0,0].legend()\n",
    "ax[0,0].grid()\n",
    "\n",
    "# KNN\n",
    "ax[0,1].plot(y_pred_knn, color=\"blue\", linewidth=0.8, linestyle=\"dotted\", label=\"Predicted data\")\n",
    "ax[0,1].plot(y_test, color=\"red\", linewidth=0.6, label=\"Real data\")\n",
    "ax[0,1].set_ylabel(\"avgHighestSlot\")\n",
    "ax[0,1].set_title(f\"KNN Regressor (MAE: {round(mae_knn, 2)})\")\n",
    "ax[0,1].legend()\n",
    "ax[0,1].grid()\n",
    "\n",
    "# SVR\n",
    "ax[1,0].plot(y_pred_svr, color=\"blue\", linewidth=0.8, linestyle=\"dotted\", label=\"Predicted data\")\n",
    "ax[1,0].plot(y_test, color=\"red\", linewidth=0.6, label=\"Real data\")\n",
    "ax[1,0].set_ylabel(\"avgHighestSlot\")\n",
    "ax[1,0].set_title(f\"SVR Regressor (MAE: {round(mae_svr, 2)})\")\n",
    "ax[1,0].legend()\n",
    "ax[1,0].grid()\n",
    "\n",
    "# Random Forest Regressor\n",
    "ax[1,1].plot(y_pred_rfr, color=\"blue\", linewidth=0.8, linestyle=\"dotted\", label=\"Predicted data\")\n",
    "ax[1,1].plot(y_test, color=\"red\", linewidth=0.6, label=\"Real data\")\n",
    "ax[1,1].set_ylabel(\"avgHighestSlot\")\n",
    "ax[1,1].set_title(f\"Random Forest Regressor (MAE: {round(mae_rfr, 2)})\")\n",
    "ax[1,1].legend()\n",
    "ax[1,1].grid()\n",
    "\n",
    "plt.tight_layout()\n",
    "plt.show()"
   ],
   "outputs": [],
   "metadata": {}
  }
 ],
 "metadata": {
  "orig_nbformat": 4,
  "language_info": {
   "name": "python",
   "version": "3.9.9"
  },
  "kernelspec": {
   "name": "python3",
   "display_name": "Python 3.9.9 64-bit"
  },
  "interpreter": {
   "hash": "aee8b7b246df8f9039afb4144a1f6fd8d2ca17a180786b69acc140d282b71a49"
  }
 },
 "nbformat": 4,
 "nbformat_minor": 2
}